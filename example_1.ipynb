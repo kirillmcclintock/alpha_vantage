{
 "cells": [
  {
   "cell_type": "code",
   "execution_count": 4,
   "metadata": {},
   "outputs": [
    {
     "name": "stdout",
     "output_type": "stream",
     "text": [
      "LPCMMK9X24ABHBY0\n"
     ]
    }
   ],
   "source": [
    "import requests\n",
    "import os\n",
    "import pandas as pd\n",
    "\n",
    "apikey = os.getenv(\"AV_API\")\n",
    "print(apikey)\n"
   ]
  },
  {
   "cell_type": "code",
   "execution_count": 27,
   "metadata": {},
   "outputs": [
    {
     "name": "stdout",
     "output_type": "stream",
     "text": [
      "               open     high      low    close\n",
      "datetime                                      \n",
      "2023-04-07  1.09188  1.09240  1.08759  1.09014\n",
      "2023-04-06  1.09058  1.09376  1.08830  1.09176\n",
      "2023-04-05  1.09549  1.09696  1.08900  1.09057\n",
      "2023-04-04  1.09011  1.09733  1.08810  1.09540\n",
      "2023-04-03  1.08418  1.09166  1.07870  1.09006\n",
      "...             ...      ...      ...      ...\n",
      "2004-02-13  1.27900  1.28910  1.27110  1.27400\n",
      "2004-02-12  1.28100  1.28460  1.27830  1.28030\n",
      "2004-02-11  1.27030  1.28340  1.26460  1.28250\n",
      "2004-02-10  1.26830  1.27880  1.26630  1.26800\n",
      "2004-02-09  1.26760  1.27610  1.26150  1.26960\n",
      "\n",
      "[5000 rows x 4 columns]\n"
     ]
    }
   ],
   "source": [
    "url = 'https://www.alphavantage.co/query?function=FX_DAILY&from_symbol=EUR&to_symbol=USD&datatype=csv&outputsize=full&apikey=' + apikey\n",
    "\n",
    "if os.path.isfile('response.csv') == False:\n",
    "    r = requests.get(url)\n",
    "    csv_data = r.text\n",
    "    csv_file = open(\"response.csv\", \"w\")\n",
    "    csv_file = csv_file.write(csv_data)\n",
    "\n",
    "df = pd.read_csv(\"response.csv\")\n",
    "df.rename(columns={\"timestamp\":\"datetime\"}, inplace=True)\n",
    "df.set_index(\"datetime\", inplace=True)\n",
    "print(df)"
   ]
  }
 ],
 "metadata": {
  "kernelspec": {
   "display_name": "Python 3",
   "language": "python",
   "name": "python3"
  },
  "language_info": {
   "codemirror_mode": {
    "name": "ipython",
    "version": 3
   },
   "file_extension": ".py",
   "mimetype": "text/x-python",
   "name": "python",
   "nbconvert_exporter": "python",
   "pygments_lexer": "ipython3",
   "version": "3.10.8"
  },
  "orig_nbformat": 4
 },
 "nbformat": 4,
 "nbformat_minor": 2
}
