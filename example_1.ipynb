{
 "cells": [
  {
   "cell_type": "code",
   "execution_count": null,
   "metadata": {},
   "outputs": [],
   "source": [
    "import requests\n",
    "import os\n",
    "import pandas as pd\n",
    "\n",
    "apikey = os.getenv(\"AV_API\")\n",
    "print(apikey)\n"
   ]
  },
  {
   "cell_type": "code",
   "execution_count": null,
   "metadata": {},
   "outputs": [],
   "source": [
    "url = 'https://www.alphavantage.co/query?function=FX_DAILY&from_symbol=EUR&to_symbol=USD&datatype=csv&outputsize=full&apikey=' + apikey\n",
    "\n",
    "if os.path.isfile('response.csv') == False:\n",
    "    r = requests.get(url)\n",
    "    csv_data = r.text\n",
    "    csv_file = open(\"response.csv\", \"w\")\n",
    "    csv_file = csv_file.write(csv_data)\n",
    "\n",
    "df = pd.read_csv(\"response.csv\")\n",
    "df.rename(columns={\"timestamp\":\"datetime\"}, inplace=True)\n",
    "df.set_index(\"datetime\", inplace=True)\n",
    "print(df)"
   ]
  }
 ],
 "metadata": {
  "kernelspec": {
   "display_name": "Python 3",
   "language": "python",
   "name": "python3"
  },
  "language_info": {
   "codemirror_mode": {
    "name": "ipython",
    "version": 3
   },
   "file_extension": ".py",
   "mimetype": "text/x-python",
   "name": "python",
   "nbconvert_exporter": "python",
   "pygments_lexer": "ipython3",
   "version": "3.10.8"
  },
  "orig_nbformat": 4
 },
 "nbformat": 4,
 "nbformat_minor": 2
}
