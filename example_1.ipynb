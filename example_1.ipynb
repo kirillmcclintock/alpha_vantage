{
 "cells": [
  {
   "cell_type": "code",
   "execution_count": 6,
   "metadata": {},
   "outputs": [],
   "source": [
    "import requests\n",
    "import os\n",
    "import pandas as pd\n",
    "\n",
    "apikey = os.getenv(\"AV_API\")\n"
   ]
  },
  {
   "cell_type": "code",
   "execution_count": 7,
   "metadata": {},
   "outputs": [
    {
     "name": "stdout",
     "output_type": "stream",
     "text": [
      "               open     high      low    close\n",
      "datetime                                      \n",
      "2023-04-07  1.09188  1.09240  1.08759  1.09014\n",
      "2023-04-06  1.09058  1.09376  1.08830  1.09176\n",
      "2023-04-05  1.09549  1.09696  1.08900  1.09057\n",
      "2023-04-04  1.09011  1.09733  1.08810  1.09540\n",
      "2023-04-03  1.08418  1.09166  1.07870  1.09006\n",
      "...             ...      ...      ...      ...\n",
      "2021-11-19  1.13720  1.13730  1.12480  1.12794\n",
      "2021-11-18  1.13192  1.13741  1.13120  1.13710\n",
      "2021-11-17  1.13196  1.13323  1.12620  1.13180\n",
      "2021-11-16  1.13674  1.13860  1.13070  1.13199\n",
      "2021-11-15  1.14452  1.14640  1.13550  1.13672\n",
      "\n",
      "[365 rows x 4 columns]\n"
     ]
    }
   ],
   "source": [
    "url = 'https://www.alphavantage.co/query?function=FX_DAILY&from_symbol=EUR&to_symbol=USD&datatype=csv&outputsize=full&apikey=' + apikey\n",
    "\n",
    "if os.path.isfile('response.csv') == False:\n",
    "    r = requests.get(url)\n",
    "    csv_data = r.text\n",
    "    csv_file = open(\"response.csv\", \"w\")\n",
    "    csv_file = csv_file.write(csv_data)\n",
    "\n",
    "df = pd.read_csv(\"response.csv\")\n",
    "df.rename(columns={\"timestamp\":\"datetime\"}, inplace=True)\n",
    "df.set_index(\"datetime\", inplace=True)\n",
    "df.drop(df.index[365:], inplace=True)\n",
    "print(df)"
   ]
  }
 ],
 "metadata": {
  "kernelspec": {
   "display_name": "Python 3",
   "language": "python",
   "name": "python3"
  },
  "language_info": {
   "codemirror_mode": {
    "name": "ipython",
    "version": 3
   },
   "file_extension": ".py",
   "mimetype": "text/x-python",
   "name": "python",
   "nbconvert_exporter": "python",
   "pygments_lexer": "ipython3",
   "version": "3.10.8"
  },
  "orig_nbformat": 4
 },
 "nbformat": 4,
 "nbformat_minor": 2
}
